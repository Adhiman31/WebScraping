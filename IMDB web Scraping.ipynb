{
 "cells": [
  {
   "cell_type": "code",
   "execution_count": 1,
   "id": "b8d2f669",
   "metadata": {},
   "outputs": [],
   "source": [
    "import requests\n",
    "from bs4 import BeautifulSoup as bs\n",
    "import pandas as pd\n",
    "import numpy as np\n",
    "import  mysql.connector as conn\n",
    "from flask import Flask , jsonify\n",
    "\n"
   ]
  },
  {
   "cell_type": "code",
   "execution_count": 2,
   "id": "11923929",
   "metadata": {},
   "outputs": [],
   "source": [
    "headers = {'User Agent':'Mozilla/5.0 (Windows NT 10.0; Win64; x64) AppleWebKit/537.36 (KHTML, like Gecko) Chrome/105.0.0.0 Safari/537.36'}"
   ]
  },
  {
   "cell_type": "code",
   "execution_count": 3,
   "id": "dd7ba9e7",
   "metadata": {},
   "outputs": [],
   "source": [
    "url = 'https://www.imdb.com/search/title/?count=100&groups=top_1000&sort=user_rating'"
   ]
  },
  {
   "cell_type": "code",
   "execution_count": 4,
   "id": "f410ba7a",
   "metadata": {},
   "outputs": [
    {
     "data": {
      "text/plain": [
       "'https://www.imdb.com/search/title/?count=100&groups=top_1000&sort=user_rating'"
      ]
     },
     "execution_count": 4,
     "metadata": {},
     "output_type": "execute_result"
    }
   ],
   "source": [
    "url"
   ]
  },
  {
   "cell_type": "code",
   "execution_count": 5,
   "id": "619c5e01",
   "metadata": {},
   "outputs": [],
   "source": [
    "res = requests.get(url,headers=headers)"
   ]
  },
  {
   "cell_type": "code",
   "execution_count": 6,
   "id": "83a3a799",
   "metadata": {},
   "outputs": [
    {
     "name": "stdout",
     "output_type": "stream",
     "text": [
      "200\n"
     ]
    }
   ],
   "source": [
    "print(res.status_code)"
   ]
  },
  {
   "cell_type": "code",
   "execution_count": 7,
   "id": "c3c753ba",
   "metadata": {},
   "outputs": [],
   "source": [
    "soup = bs(res.content,'html.parser')\n",
    "\n"
   ]
  },
  {
   "cell_type": "code",
   "execution_count": 8,
   "id": "4f5360c0",
   "metadata": {},
   "outputs": [],
   "source": [
    "#creating list for data to be fetched \n",
    "Movie_name =[]\n",
    "Year_of_release = []\n",
    "Duration =[]\n",
    "Imdb_rating = []\n",
    "Genre = []\n",
    "Director= []\n",
    "Starcast = []\n",
    "Synopsis = []"
   ]
  },
  {
   "cell_type": "code",
   "execution_count": 9,
   "id": "7b691ee5",
   "metadata": {},
   "outputs": [],
   "source": [
    "movie_data = soup.find_all('div',{'class':'lister-item mode-advanced'})"
   ]
  },
  {
   "cell_type": "code",
   "execution_count": 10,
   "id": "375e638d",
   "metadata": {},
   "outputs": [],
   "source": [
    "for data in movie_data:\n",
    "    name = data.h3.a.text\n",
    "    Movie_name.append(name)\n",
    "    \n",
    "    yr = data.h3.find('span',{'class':'lister-item-year text-muted unbold'}).text.replace('(','').replace(')','')\n",
    "    Year_of_release.append(yr)\n",
    "    \n",
    "    runtime = data.p.find('span',{'class':'runtime'}).text.replace(' min','')\n",
    "    Duration.append(runtime)\n",
    "    \n",
    "    rating = data.find('div',{'class':'inline-block ratings-imdb-rating'}).text.strip()\n",
    "    Imdb_rating.append(rating)\n",
    "    \n",
    "    gen = data.p.find('span',{'class':'genre'}).text.strip()\n",
    "    Genre.append(gen)\n",
    "    \n",
    "    direct = data.find('p',{'class':''}).text.strip().replace('\\n','').split('|')\n",
    "    direct = [d.strip() for d in direct]\n",
    "    direct = [direct[i].replace(j,'')for i,j in enumerate(['Director:','Stars:'])]\n",
    "    Director.append(direct[0])\n",
    "    Starcast.append([s.strip() for s in direct[1].split(',')])\n",
    "    \n",
    "    des = data.find_all('p', class_ = 'text-muted')[1].text.replace('\\n','')\n",
    "    Synopsis.append(des)\n",
    "    \n",
    "    \n",
    "    \n",
    "    \n",
    "    \n",
    "    "
   ]
  },
  {
   "cell_type": "code",
   "execution_count": null,
   "id": "d19c2aef",
   "metadata": {},
   "outputs": [],
   "source": []
  },
  {
   "cell_type": "code",
   "execution_count": 11,
   "id": "e24fc65b",
   "metadata": {},
   "outputs": [],
   "source": [
    "# using pandas to convert into data frame\n",
    "\n",
    "dict_ ={'Name':Movie_name,'Release_Year':Year_of_release,'Descrition':Synopsis,'Runtime':Duration,'IMDB_Rating':Imdb_rating,'Genre_':Genre,'Directors':Director,'Cast':Starcast}\n",
    "\n",
    "df = pd.DataFrame.from_dict(dict_, orient='index')\n",
    "df = df.transpose()"
   ]
  },
  {
   "cell_type": "code",
   "execution_count": 12,
   "id": "faf4fe9a",
   "metadata": {},
   "outputs": [
    {
     "data": {
      "text/html": [
       "<div>\n",
       "<style scoped>\n",
       "    .dataframe tbody tr th:only-of-type {\n",
       "        vertical-align: middle;\n",
       "    }\n",
       "\n",
       "    .dataframe tbody tr th {\n",
       "        vertical-align: top;\n",
       "    }\n",
       "\n",
       "    .dataframe thead th {\n",
       "        text-align: right;\n",
       "    }\n",
       "</style>\n",
       "<table border=\"1\" class=\"dataframe\">\n",
       "  <thead>\n",
       "    <tr style=\"text-align: right;\">\n",
       "      <th></th>\n",
       "      <th>Name</th>\n",
       "      <th>Release_Year</th>\n",
       "      <th>Descrition</th>\n",
       "      <th>Runtime</th>\n",
       "      <th>IMDB_Rating</th>\n",
       "      <th>Genre_</th>\n",
       "      <th>Directors</th>\n",
       "      <th>Cast</th>\n",
       "    </tr>\n",
       "  </thead>\n",
       "  <tbody>\n",
       "    <tr>\n",
       "      <th>0</th>\n",
       "      <td>The Shawshank Redemption</td>\n",
       "      <td>1994</td>\n",
       "      <td>Two imprisoned men bond over a number of years...</td>\n",
       "      <td>142</td>\n",
       "      <td>9.3</td>\n",
       "      <td>Drama</td>\n",
       "      <td>Frank Darabont</td>\n",
       "      <td>[Tim Robbins, Morgan Freeman, Bob Gunton, Will...</td>\n",
       "    </tr>\n",
       "    <tr>\n",
       "      <th>1</th>\n",
       "      <td>The Godfather</td>\n",
       "      <td>1972</td>\n",
       "      <td>The aging patriarch of an organized crime dyna...</td>\n",
       "      <td>175</td>\n",
       "      <td>9.2</td>\n",
       "      <td>Crime, Drama</td>\n",
       "      <td>Francis Ford Coppola</td>\n",
       "      <td>[Marlon Brando, Al Pacino, James Caan, Diane K...</td>\n",
       "    </tr>\n",
       "    <tr>\n",
       "      <th>2</th>\n",
       "      <td>Rocketry: The Nambi Effect</td>\n",
       "      <td>2022</td>\n",
       "      <td>Based on the life of Indian Space Research Org...</td>\n",
       "      <td>157</td>\n",
       "      <td>9.0</td>\n",
       "      <td>Biography, Drama</td>\n",
       "      <td>Madhavan</td>\n",
       "      <td>[Madhavan, Simran, Rajit Kapoor, Ravi Raghaven...</td>\n",
       "    </tr>\n",
       "    <tr>\n",
       "      <th>3</th>\n",
       "      <td>The Dark Knight</td>\n",
       "      <td>2008</td>\n",
       "      <td>When the menace known as the Joker wreaks havo...</td>\n",
       "      <td>152</td>\n",
       "      <td>9.0</td>\n",
       "      <td>Action, Crime, Drama</td>\n",
       "      <td>Christopher Nolan</td>\n",
       "      <td>[Christian Bale, Heath Ledger, Aaron Eckhart, ...</td>\n",
       "    </tr>\n",
       "    <tr>\n",
       "      <th>4</th>\n",
       "      <td>The Lord of the Rings: The Return of the King</td>\n",
       "      <td>2003</td>\n",
       "      <td>Gandalf and Aragorn lead the World of Men agai...</td>\n",
       "      <td>201</td>\n",
       "      <td>9.0</td>\n",
       "      <td>Action, Adventure, Drama</td>\n",
       "      <td>Peter Jackson</td>\n",
       "      <td>[Elijah Wood, Viggo Mortensen, Ian McKellen, O...</td>\n",
       "    </tr>\n",
       "    <tr>\n",
       "      <th>...</th>\n",
       "      <td>...</td>\n",
       "      <td>...</td>\n",
       "      <td>...</td>\n",
       "      <td>...</td>\n",
       "      <td>...</td>\n",
       "      <td>...</td>\n",
       "      <td>...</td>\n",
       "      <td>...</td>\n",
       "    </tr>\n",
       "    <tr>\n",
       "      <th>95</th>\n",
       "      <td>Hamilton</td>\n",
       "      <td>2020</td>\n",
       "      <td>The real life of one of America's foremost fou...</td>\n",
       "      <td>160</td>\n",
       "      <td>8.3</td>\n",
       "      <td>Biography, Drama, History</td>\n",
       "      <td>Thomas Kail</td>\n",
       "      <td>[Lin-Manuel Miranda, Phillipa Soo, Leslie Odom...</td>\n",
       "    </tr>\n",
       "    <tr>\n",
       "      <th>96</th>\n",
       "      <td>Ratsasan</td>\n",
       "      <td>2018</td>\n",
       "      <td>A sub-inspector sets out in pursuit of a myste...</td>\n",
       "      <td>170</td>\n",
       "      <td>8.3</td>\n",
       "      <td>Crime, Drama, Mystery</td>\n",
       "      <td>Ram Kumar</td>\n",
       "      <td>[Vishnu Vishal, Amala Paul, Radha Ravi, Sangil...</td>\n",
       "    </tr>\n",
       "    <tr>\n",
       "      <th>97</th>\n",
       "      <td>Ayla: The Daughter of War</td>\n",
       "      <td>2017</td>\n",
       "      <td>In 1950, amid-st the ravages of the Korean War...</td>\n",
       "      <td>125</td>\n",
       "      <td>8.3</td>\n",
       "      <td>Biography, Drama, History</td>\n",
       "      <td>Can Ulkay</td>\n",
       "      <td>[Çetin Tekindor, Ismail Hacioglu, Kyung-jin Le...</td>\n",
       "    </tr>\n",
       "    <tr>\n",
       "      <th>98</th>\n",
       "      <td>Vikram Vedha</td>\n",
       "      <td>2017</td>\n",
       "      <td>Vikram, a no-nonsense police officer, accompan...</td>\n",
       "      <td>147</td>\n",
       "      <td>8.3</td>\n",
       "      <td>Action, Crime, Drama</td>\n",
       "      <td>Directors:Gayatri, Pushkar, Gowtham Selvaraj</td>\n",
       "      <td>[Madhavan, Vijay Sethupathi, Shraddha Srinath,...</td>\n",
       "    </tr>\n",
       "    <tr>\n",
       "      <th>99</th>\n",
       "      <td>Dangal</td>\n",
       "      <td>2016</td>\n",
       "      <td>Former wrestler Mahavir Singh Phogat and his t...</td>\n",
       "      <td>161</td>\n",
       "      <td>8.3</td>\n",
       "      <td>Action, Biography, Drama</td>\n",
       "      <td>Nitesh Tiwari</td>\n",
       "      <td>[Aamir Khan, Sakshi Tanwar, Fatima Sana Shaikh...</td>\n",
       "    </tr>\n",
       "  </tbody>\n",
       "</table>\n",
       "<p>100 rows × 8 columns</p>\n",
       "</div>"
      ],
      "text/plain": [
       "                                             Name Release_Year  \\\n",
       "0                        The Shawshank Redemption         1994   \n",
       "1                                   The Godfather         1972   \n",
       "2                      Rocketry: The Nambi Effect         2022   \n",
       "3                                 The Dark Knight         2008   \n",
       "4   The Lord of the Rings: The Return of the King         2003   \n",
       "..                                            ...          ...   \n",
       "95                                       Hamilton         2020   \n",
       "96                                       Ratsasan         2018   \n",
       "97                      Ayla: The Daughter of War         2017   \n",
       "98                                   Vikram Vedha         2017   \n",
       "99                                         Dangal         2016   \n",
       "\n",
       "                                           Descrition Runtime IMDB_Rating  \\\n",
       "0   Two imprisoned men bond over a number of years...     142         9.3   \n",
       "1   The aging patriarch of an organized crime dyna...     175         9.2   \n",
       "2   Based on the life of Indian Space Research Org...     157         9.0   \n",
       "3   When the menace known as the Joker wreaks havo...     152         9.0   \n",
       "4   Gandalf and Aragorn lead the World of Men agai...     201         9.0   \n",
       "..                                                ...     ...         ...   \n",
       "95  The real life of one of America's foremost fou...     160         8.3   \n",
       "96  A sub-inspector sets out in pursuit of a myste...     170         8.3   \n",
       "97  In 1950, amid-st the ravages of the Korean War...     125         8.3   \n",
       "98  Vikram, a no-nonsense police officer, accompan...     147         8.3   \n",
       "99  Former wrestler Mahavir Singh Phogat and his t...     161         8.3   \n",
       "\n",
       "                       Genre_                                     Directors  \\\n",
       "0                       Drama                                Frank Darabont   \n",
       "1                Crime, Drama                          Francis Ford Coppola   \n",
       "2            Biography, Drama                                      Madhavan   \n",
       "3        Action, Crime, Drama                             Christopher Nolan   \n",
       "4    Action, Adventure, Drama                                 Peter Jackson   \n",
       "..                        ...                                           ...   \n",
       "95  Biography, Drama, History                                   Thomas Kail   \n",
       "96      Crime, Drama, Mystery                                     Ram Kumar   \n",
       "97  Biography, Drama, History                                     Can Ulkay   \n",
       "98       Action, Crime, Drama  Directors:Gayatri, Pushkar, Gowtham Selvaraj   \n",
       "99   Action, Biography, Drama                                 Nitesh Tiwari   \n",
       "\n",
       "                                                 Cast  \n",
       "0   [Tim Robbins, Morgan Freeman, Bob Gunton, Will...  \n",
       "1   [Marlon Brando, Al Pacino, James Caan, Diane K...  \n",
       "2   [Madhavan, Simran, Rajit Kapoor, Ravi Raghaven...  \n",
       "3   [Christian Bale, Heath Ledger, Aaron Eckhart, ...  \n",
       "4   [Elijah Wood, Viggo Mortensen, Ian McKellen, O...  \n",
       "..                                                ...  \n",
       "95  [Lin-Manuel Miranda, Phillipa Soo, Leslie Odom...  \n",
       "96  [Vishnu Vishal, Amala Paul, Radha Ravi, Sangil...  \n",
       "97  [Çetin Tekindor, Ismail Hacioglu, Kyung-jin Le...  \n",
       "98  [Madhavan, Vijay Sethupathi, Shraddha Srinath,...  \n",
       "99  [Aamir Khan, Sakshi Tanwar, Fatima Sana Shaikh...  \n",
       "\n",
       "[100 rows x 8 columns]"
      ]
     },
     "execution_count": 12,
     "metadata": {},
     "output_type": "execute_result"
    }
   ],
   "source": [
    "df"
   ]
  },
  {
   "cell_type": "code",
   "execution_count": 13,
   "id": "b12c3b23",
   "metadata": {},
   "outputs": [],
   "source": [
    "df.to_csv('IMDB_Data.csv')"
   ]
  },
  {
   "cell_type": "code",
   "execution_count": 14,
   "id": "19b6e053",
   "metadata": {},
   "outputs": [],
   "source": [
    "app = Flask(__name__)\n",
    "\n",
    "mydb = conn.connect(host = \"localhost\" , user = 'root' , passwd = \"password\")\n",
    "cursor = mydb.cursor()\n",
    "cursor.execute(\"create database if not exists imdb\")\n"
   ]
  },
  {
   "cell_type": "code",
   "execution_count": 15,
   "id": "c28cfcb6",
   "metadata": {},
   "outputs": [
    {
     "name": "stderr",
     "output_type": "stream",
     "text": [
      "c:\\users\\anile\\anaconda3\\lib\\site-packages\\win32\\lib\\pywintypes.py:2: DeprecationWarning: the imp module is deprecated in favour of importlib; see the module's documentation for alternative uses\n",
      "c:\\users\\anile\\anaconda3\\lib\\site-packages\\agate\\utils.py:285: UnnamedColumnWarning: Column 0 has no name. Using \"a\".\n",
      "OperationalError: (MySQLdb.OperationalError) (1050, \"Table 'imdb_data' already exists\")\n",
      "[SQL: \n",
      "CREATE TABLE `IMDB_Data` (\n",
      "\ta DECIMAL(38, 0) NOT NULL, \n",
      "\t`Name` VARCHAR(68) NOT NULL, \n",
      "\t`Release_Year` VARCHAR(7) NOT NULL, \n",
      "\t`Descrition` VARCHAR(239) NOT NULL, \n",
      "\t`Runtime` DECIMAL(38, 0) NOT NULL, \n",
      "\t`IMDB_Rating` DECIMAL(38, 1) NOT NULL, \n",
      "\t`Genre_` VARCHAR(28) NOT NULL, \n",
      "\t`Directors` VARCHAR(55) NOT NULL, \n",
      "\t`Cast` VARCHAR(90) NOT NULL\n",
      ")\n",
      "\n",
      "]\n",
      "(Background on this error at: http://sqlalche.me/e/14/e3q8)\n"
     ]
    }
   ],
   "source": [
    "!csvsql --db mysql://root:<password>@localhost:3306/imdb --insert IMDB_Data.csv #ignore the warning as table was created and i re-run the command."
   ]
  },
  {
   "cell_type": "code",
   "execution_count": null,
   "id": "72cd8a87",
   "metadata": {},
   "outputs": [
    {
     "name": "stdout",
     "output_type": "stream",
     "text": [
      " * Serving Flask app \"__main__\" (lazy loading)\n",
      " * Environment: production\n",
      "   WARNING: This is a development server. Do not use it in a production deployment.\n",
      "   Use a production WSGI server instead.\n",
      " * Debug mode: off\n"
     ]
    },
    {
     "name": "stderr",
     "output_type": "stream",
     "text": [
      " * Running on http://127.0.0.1:5000/ (Press CTRL+C to quit)\n",
      "127.0.0.1 - - [16/Sep/2022 13:41:09] \"\u001b[33mGET / HTTP/1.1\u001b[0m\" 404 -\n",
      "127.0.0.1 - - [16/Sep/2022 13:41:17] \"\u001b[37mGET /fetchdata HTTP/1.1\u001b[0m\" 200 -\n"
     ]
    }
   ],
   "source": [
    "@app.route(\"/fetchdata\",methods = ['POST','GET'])\n",
    "def fetch_data():\n",
    "    cursor.execute(\"select * from imdb.imdb_data\")\n",
    "    for i in cursor.fetchall():\n",
    "        return jsonify(str(i))\n",
    "    \n",
    "if __name__ == '__main__':\n",
    "    app.run()"
   ]
  },
  {
   "cell_type": "code",
   "execution_count": null,
   "id": "3d0a1a07",
   "metadata": {},
   "outputs": [],
   "source": [
    "#data shown on browser"
   ]
  }
 ],
 "metadata": {
  "kernelspec": {
   "display_name": "Python 3",
   "language": "python",
   "name": "python3"
  },
  "language_info": {
   "codemirror_mode": {
    "name": "ipython",
    "version": 3
   },
   "file_extension": ".py",
   "mimetype": "text/x-python",
   "name": "python",
   "nbconvert_exporter": "python",
   "pygments_lexer": "ipython3",
   "version": "3.8.8"
  }
 },
 "nbformat": 4,
 "nbformat_minor": 5
}
